{
  "cells": [
    {
      "cell_type": "markdown",
      "metadata": {
        "id": "view-in-github",
        "colab_type": "text"
      },
      "source": [
        "<a href=\"https://colab.research.google.com/github/huyentlai/PyHealth/blob/master/Tutorial_7_pyhealth_medcode.ipynb\" target=\"_parent\"><img src=\"https://colab.research.google.com/assets/colab-badge.svg\" alt=\"Open In Colab\"/></a>"
      ]
    },
    {
      "cell_type": "markdown",
      "source": [
        "### **Preparation**\n",
        "- install pyhealth alpha version"
      ],
      "metadata": {
        "id": "PHPVEkPFKYkw"
      }
    },
    {
      "cell_type": "code",
      "execution_count": null,
      "metadata": {
        "id": "Dbz1YJ2nqOSN",
        "colab": {
          "base_uri": "https://localhost:8080/"
        },
        "outputId": "9d7daddb-f75f-4e10-94fd-e4d41dfc45ef"
      },
      "outputs": [
        {
          "output_type": "stream",
          "name": "stdout",
          "text": [
            "Collecting pyhealth\n",
            "  Downloading pyhealth-1.1.4-py2.py3-none-any.whl (226 kB)\n",
            "\u001b[2K     \u001b[90m━━━━━━━━━━━━━━━━━━━━━━━━━━━━━━━━━━━━━━━━\u001b[0m \u001b[32m226.3/226.3 kB\u001b[0m \u001b[31m1.3 MB/s\u001b[0m eta \u001b[36m0:00:00\u001b[0m\n",
            "\u001b[?25hRequirement already satisfied: torch>=1.8.0 in /usr/local/lib/python3.10/dist-packages (from pyhealth) (2.1.0+cu121)\n",
            "Collecting rdkit>=2022.03.4 (from pyhealth)\n",
            "  Downloading rdkit-2023.9.4-cp310-cp310-manylinux_2_17_x86_64.manylinux2014_x86_64.whl (34.4 MB)\n",
            "\u001b[2K     \u001b[90m━━━━━━━━━━━━━━━━━━━━━━━━━━━━━━━━━━━━━━━━\u001b[0m \u001b[32m34.4/34.4 MB\u001b[0m \u001b[31m13.9 MB/s\u001b[0m eta \u001b[36m0:00:00\u001b[0m\n",
            "\u001b[?25hRequirement already satisfied: scikit-learn>=0.24.2 in /usr/local/lib/python3.10/dist-packages (from pyhealth) (1.2.2)\n",
            "Requirement already satisfied: networkx>=2.6.3 in /usr/local/lib/python3.10/dist-packages (from pyhealth) (3.2.1)\n",
            "Requirement already satisfied: pandas<2,>=1.3.2 in /usr/local/lib/python3.10/dist-packages (from pyhealth) (1.5.3)\n",
            "Collecting pandarallel>=1.5.3 (from pyhealth)\n",
            "  Downloading pandarallel-1.6.5.tar.gz (14 kB)\n",
            "  Preparing metadata (setup.py) ... \u001b[?25l\u001b[?25hdone\n",
            "Collecting mne>=1.0.3 (from pyhealth)\n",
            "  Downloading mne-1.6.1-py3-none-any.whl (8.3 MB)\n",
            "\u001b[2K     \u001b[90m━━━━━━━━━━━━━━━━━━━━━━━━━━━━━━━━━━━━━━━━\u001b[0m \u001b[32m8.3/8.3 MB\u001b[0m \u001b[31m39.2 MB/s\u001b[0m eta \u001b[36m0:00:00\u001b[0m\n",
            "\u001b[?25hCollecting urllib3<=1.26.15 (from pyhealth)\n",
            "  Downloading urllib3-1.26.15-py2.py3-none-any.whl (140 kB)\n",
            "\u001b[2K     \u001b[90m━━━━━━━━━━━━━━━━━━━━━━━━━━━━━━━━━━━━━━━━\u001b[0m \u001b[32m140.9/140.9 kB\u001b[0m \u001b[31m9.2 MB/s\u001b[0m eta \u001b[36m0:00:00\u001b[0m\n",
            "\u001b[?25hRequirement already satisfied: numpy in /usr/local/lib/python3.10/dist-packages (from pyhealth) (1.23.5)\n",
            "Requirement already satisfied: tqdm in /usr/local/lib/python3.10/dist-packages (from pyhealth) (4.66.1)\n",
            "Requirement already satisfied: scipy>=1.7.1 in /usr/local/lib/python3.10/dist-packages (from mne>=1.0.3->pyhealth) (1.11.4)\n",
            "Requirement already satisfied: matplotlib>=3.5.0 in /usr/local/lib/python3.10/dist-packages (from mne>=1.0.3->pyhealth) (3.7.1)\n",
            "Requirement already satisfied: pooch>=1.5 in /usr/local/lib/python3.10/dist-packages (from mne>=1.0.3->pyhealth) (1.8.0)\n",
            "Requirement already satisfied: decorator in /usr/local/lib/python3.10/dist-packages (from mne>=1.0.3->pyhealth) (4.4.2)\n",
            "Requirement already satisfied: packaging in /usr/local/lib/python3.10/dist-packages (from mne>=1.0.3->pyhealth) (23.2)\n",
            "Requirement already satisfied: jinja2 in /usr/local/lib/python3.10/dist-packages (from mne>=1.0.3->pyhealth) (3.1.3)\n",
            "Requirement already satisfied: lazy-loader>=0.3 in /usr/local/lib/python3.10/dist-packages (from mne>=1.0.3->pyhealth) (0.3)\n",
            "Collecting dill>=0.3.1 (from pandarallel>=1.5.3->pyhealth)\n",
            "  Downloading dill-0.3.7-py3-none-any.whl (115 kB)\n",
            "\u001b[2K     \u001b[90m━━━━━━━━━━━━━━━━━━━━━━━━━━━━━━━━━━━━━━━━\u001b[0m \u001b[32m115.3/115.3 kB\u001b[0m \u001b[31m8.2 MB/s\u001b[0m eta \u001b[36m0:00:00\u001b[0m\n",
            "\u001b[?25hRequirement already satisfied: psutil in /usr/local/lib/python3.10/dist-packages (from pandarallel>=1.5.3->pyhealth) (5.9.5)\n",
            "Requirement already satisfied: python-dateutil>=2.8.1 in /usr/local/lib/python3.10/dist-packages (from pandas<2,>=1.3.2->pyhealth) (2.8.2)\n",
            "Requirement already satisfied: pytz>=2020.1 in /usr/local/lib/python3.10/dist-packages (from pandas<2,>=1.3.2->pyhealth) (2023.3.post1)\n",
            "Requirement already satisfied: Pillow in /usr/local/lib/python3.10/dist-packages (from rdkit>=2022.03.4->pyhealth) (9.4.0)\n",
            "Requirement already satisfied: joblib>=1.1.1 in /usr/local/lib/python3.10/dist-packages (from scikit-learn>=0.24.2->pyhealth) (1.3.2)\n",
            "Requirement already satisfied: threadpoolctl>=2.0.0 in /usr/local/lib/python3.10/dist-packages (from scikit-learn>=0.24.2->pyhealth) (3.2.0)\n",
            "Requirement already satisfied: filelock in /usr/local/lib/python3.10/dist-packages (from torch>=1.8.0->pyhealth) (3.13.1)\n",
            "Requirement already satisfied: typing-extensions in /usr/local/lib/python3.10/dist-packages (from torch>=1.8.0->pyhealth) (4.5.0)\n",
            "Requirement already satisfied: sympy in /usr/local/lib/python3.10/dist-packages (from torch>=1.8.0->pyhealth) (1.12)\n",
            "Requirement already satisfied: fsspec in /usr/local/lib/python3.10/dist-packages (from torch>=1.8.0->pyhealth) (2023.6.0)\n",
            "Requirement already satisfied: triton==2.1.0 in /usr/local/lib/python3.10/dist-packages (from torch>=1.8.0->pyhealth) (2.1.0)\n",
            "Requirement already satisfied: contourpy>=1.0.1 in /usr/local/lib/python3.10/dist-packages (from matplotlib>=3.5.0->mne>=1.0.3->pyhealth) (1.2.0)\n",
            "Requirement already satisfied: cycler>=0.10 in /usr/local/lib/python3.10/dist-packages (from matplotlib>=3.5.0->mne>=1.0.3->pyhealth) (0.12.1)\n",
            "Requirement already satisfied: fonttools>=4.22.0 in /usr/local/lib/python3.10/dist-packages (from matplotlib>=3.5.0->mne>=1.0.3->pyhealth) (4.47.2)\n",
            "Requirement already satisfied: kiwisolver>=1.0.1 in /usr/local/lib/python3.10/dist-packages (from matplotlib>=3.5.0->mne>=1.0.3->pyhealth) (1.4.5)\n",
            "Requirement already satisfied: pyparsing>=2.3.1 in /usr/local/lib/python3.10/dist-packages (from matplotlib>=3.5.0->mne>=1.0.3->pyhealth) (3.1.1)\n",
            "Requirement already satisfied: platformdirs>=2.5.0 in /usr/local/lib/python3.10/dist-packages (from pooch>=1.5->mne>=1.0.3->pyhealth) (4.1.0)\n",
            "Requirement already satisfied: requests>=2.19.0 in /usr/local/lib/python3.10/dist-packages (from pooch>=1.5->mne>=1.0.3->pyhealth) (2.31.0)\n",
            "Requirement already satisfied: six>=1.5 in /usr/local/lib/python3.10/dist-packages (from python-dateutil>=2.8.1->pandas<2,>=1.3.2->pyhealth) (1.16.0)\n",
            "Requirement already satisfied: MarkupSafe>=2.0 in /usr/local/lib/python3.10/dist-packages (from jinja2->mne>=1.0.3->pyhealth) (2.1.3)\n",
            "Requirement already satisfied: mpmath>=0.19 in /usr/local/lib/python3.10/dist-packages (from sympy->torch>=1.8.0->pyhealth) (1.3.0)\n",
            "Requirement already satisfied: charset-normalizer<4,>=2 in /usr/local/lib/python3.10/dist-packages (from requests>=2.19.0->pooch>=1.5->mne>=1.0.3->pyhealth) (3.3.2)\n",
            "Requirement already satisfied: idna<4,>=2.5 in /usr/local/lib/python3.10/dist-packages (from requests>=2.19.0->pooch>=1.5->mne>=1.0.3->pyhealth) (3.6)\n",
            "Requirement already satisfied: certifi>=2017.4.17 in /usr/local/lib/python3.10/dist-packages (from requests>=2.19.0->pooch>=1.5->mne>=1.0.3->pyhealth) (2023.11.17)\n",
            "Building wheels for collected packages: pandarallel\n",
            "  Building wheel for pandarallel (setup.py) ... \u001b[?25l\u001b[?25hdone\n",
            "  Created wheel for pandarallel: filename=pandarallel-1.6.5-py3-none-any.whl size=16672 sha256=7ed22e8ab4a8021e09f6787f50cb86df336e1cbc3aea9d8b2e3b97275177e0ef\n",
            "  Stored in directory: /root/.cache/pip/wheels/50/4f/1e/34e057bb868842209f1623f195b74fd7eda229308a7352d47f\n",
            "Successfully built pandarallel\n",
            "Installing collected packages: urllib3, rdkit, dill, pandarallel, mne, pyhealth\n",
            "  Attempting uninstall: urllib3\n",
            "    Found existing installation: urllib3 2.0.7\n",
            "    Uninstalling urllib3-2.0.7:\n",
            "      Successfully uninstalled urllib3-2.0.7\n",
            "Successfully installed dill-0.3.7 mne-1.6.1 pandarallel-1.6.5 pyhealth-1.1.4 rdkit-2023.9.4 urllib3-1.26.15\n"
          ]
        }
      ],
      "source": [
        "!pip install pyhealth"
      ]
    },
    {
      "cell_type": "markdown",
      "source": [
        "### **Instruction on [pyhealth.medcode](https://pyhealth.readthedocs.io/en/latest/api/medcode.html)**\n",
        "- **[README]**: medcode provides two core functionalities:\n",
        "    - (1) looking up information for a given medical code (e.g., name, category, sub-concept);\n",
        "    - (2) mapping codes across coding systems (e.g., ICD9CM to CCSCM). **This module can be easily applied to your research.**"
      ],
      "metadata": {
        "id": "_1S5rqae7FhB"
      }
    },
    {
      "cell_type": "markdown",
      "source": [
        "### 1. Code Lookup\n",
        "\n",
        "`class pyhealth.medcode.InnerMap`\n",
        "\n",
        "- **[Functionality]**:\n",
        "    - lookup(code): looks up code in a coding system\n",
        "    - contains(code): checks whether a code belongs to a specific coding system\n",
        "    - get_ancestors(code): returns the ancestors for a given code\n",
        "\n",
        "Currently, we support the following coding systems:\n",
        "\n",
        "- Diagnosis codes:\n",
        "    - ICD9CM\n",
        "    - ICD10CM\n",
        "    - CCSCM\n",
        "- Procedure codes:\n",
        "    - ICD9PROC\n",
        "    - ICD10PROC\n",
        "    - CCSPROC\n",
        "- Medication codes:\n",
        "    - NDC\n",
        "    - RxNorm\n",
        "    - ATC"
      ],
      "metadata": {
        "id": "6HPf_5D0nQK6"
      }
    },
    {
      "cell_type": "markdown",
      "source": [
        "### Example 1: Look up ICD9CM code\n",
        "\n",
        "Let's first try to look up the ICD9 CM code 428.0, which stands for \"Congestive heart failure, unspecified\"."
      ],
      "metadata": {
        "id": "fUL4zbTRnw3P"
      }
    },
    {
      "cell_type": "code",
      "source": [
        "from pyhealth.medcode import InnerMap\n",
        "\n",
        "# initialize an InnerMap\n",
        "icd9cm = InnerMap.load(\"ICD9CM\")\n",
        "\n",
        "# let's first check if the code is in ICD9CM\n",
        "\"480\" in icd9cm"
      ],
      "metadata": {
        "colab": {
          "base_uri": "https://localhost:8080/"
        },
        "id": "XfVUbTI7nPsH",
        "outputId": "44f8f018-de4a-4f5f-8247-8d7cad7cb803"
      },
      "execution_count": null,
      "outputs": [
        {
          "output_type": "execute_result",
          "data": {
            "text/plain": [
              "True"
            ]
          },
          "metadata": {},
          "execution_count": 4
        }
      ]
    },
    {
      "cell_type": "code",
      "source": [
        "# next let's look up this code\n",
        "icd9cm.lookup(\"480\")"
      ],
      "metadata": {
        "colab": {
          "base_uri": "https://localhost:8080/",
          "height": 35
        },
        "id": "ca79ODRkopvO",
        "outputId": "2f8a418e-600a-4b5e-f33d-12e4b1505d38"
      },
      "execution_count": null,
      "outputs": [
        {
          "output_type": "execute_result",
          "data": {
            "text/plain": [
              "'Viral pneumonia'"
            ],
            "application/vnd.google.colaboratory.intrinsic+json": {
              "type": "string"
            }
          },
          "metadata": {},
          "execution_count": 5
        }
      ]
    },
    {
      "cell_type": "code",
      "source": [
        "# we can also get the ancestors of this code\n",
        "icd9cm.get_ancestors(\"480\")"
      ],
      "metadata": {
        "colab": {
          "base_uri": "https://localhost:8080/"
        },
        "id": "NLvvKbloo3cv",
        "outputId": "4f82d0d2-9117-4370-a2bc-0fe3a99c7bcf"
      },
      "execution_count": null,
      "outputs": [
        {
          "output_type": "execute_result",
          "data": {
            "text/plain": [
              "['480-488.99', '460-519.99', '001-999.99']"
            ]
          },
          "metadata": {},
          "execution_count": 6
        }
      ]
    },
    {
      "cell_type": "code",
      "source": [
        "icd9cm.get_descendants(\"480\")"
      ],
      "metadata": {
        "colab": {
          "base_uri": "https://localhost:8080/"
        },
        "id": "24b45pbzVzYP",
        "outputId": "a7e99c0a-eee6-4f9c-9fd3-968a8f453c00"
      },
      "execution_count": null,
      "outputs": [
        {
          "output_type": "execute_result",
          "data": {
            "text/plain": [
              "['480.0', '480.1', '480.2', '480.3', '480.8', '480.9']"
            ]
          },
          "metadata": {},
          "execution_count": 7
        }
      ]
    },
    {
      "cell_type": "markdown",
      "source": [
        "Note that if the code is not in standard format (e.g., \"4280\" instead of \"428.0\"), medcode will automatically normalize it."
      ],
      "metadata": {
        "id": "mB_7HSJOu7Oc"
      }
    },
    {
      "cell_type": "code",
      "source": [
        "# non-standard format\n",
        "icd9cm.lookup(\"4280\")"
      ],
      "metadata": {
        "id": "7AkmUcM_u6a-",
        "colab": {
          "base_uri": "https://localhost:8080/",
          "height": 35
        },
        "outputId": "96a3b892-fa3c-4718-8bd8-a725efbba588"
      },
      "execution_count": null,
      "outputs": [
        {
          "output_type": "execute_result",
          "data": {
            "text/plain": [
              "'Congestive heart failure, unspecified'"
            ],
            "application/vnd.google.colaboratory.intrinsic+json": {
              "type": "string"
            }
          },
          "metadata": {},
          "execution_count": 8
        }
      ]
    },
    {
      "cell_type": "markdown",
      "source": [
        "**TODO**: look up the following ICD9CM codes: 480.1, 280, 394"
      ],
      "metadata": {
        "id": "MhTm-_74pZyd"
      }
    },
    {
      "cell_type": "code",
      "source": [
        "icd9cm.lookup(\"480.1\")"
      ],
      "metadata": {
        "id": "n2eLWCtRvAgq",
        "colab": {
          "base_uri": "https://localhost:8080/",
          "height": 35
        },
        "outputId": "a7b16390-ab28-48a5-aa17-7ed611bf0430"
      },
      "execution_count": null,
      "outputs": [
        {
          "output_type": "execute_result",
          "data": {
            "text/plain": [
              "'Pneumonia due to respiratory syncytial virus'"
            ],
            "application/vnd.google.colaboratory.intrinsic+json": {
              "type": "string"
            }
          },
          "metadata": {},
          "execution_count": 9
        }
      ]
    },
    {
      "cell_type": "code",
      "source": [
        "icd9cm.lookup(\"280\")"
      ],
      "metadata": {
        "id": "JRU5mmWHvDk2",
        "colab": {
          "base_uri": "https://localhost:8080/",
          "height": 35
        },
        "outputId": "058585d2-591e-405a-8516-13ff19f0cd33"
      },
      "execution_count": null,
      "outputs": [
        {
          "output_type": "execute_result",
          "data": {
            "text/plain": [
              "'Iron deficiency anemias'"
            ],
            "application/vnd.google.colaboratory.intrinsic+json": {
              "type": "string"
            }
          },
          "metadata": {},
          "execution_count": 10
        }
      ]
    },
    {
      "cell_type": "code",
      "source": [
        "icd9cm.lookup(\"394\")"
      ],
      "metadata": {
        "id": "RlvZHwk1vGAP",
        "colab": {
          "base_uri": "https://localhost:8080/",
          "height": 35
        },
        "outputId": "98b24286-60fb-47ea-c479-fec756744930"
      },
      "execution_count": null,
      "outputs": [
        {
          "output_type": "execute_result",
          "data": {
            "text/plain": [
              "'Diseases of mitral valve'"
            ],
            "application/vnd.google.colaboratory.intrinsic+json": {
              "type": "string"
            }
          },
          "metadata": {},
          "execution_count": 11
        }
      ]
    },
    {
      "cell_type": "markdown",
      "source": [
        "**TODO:** look up the following CCSPROC codes: 2, 5, 10"
      ],
      "metadata": {
        "id": "eUTcMK_3p69D"
      }
    },
    {
      "cell_type": "code",
      "source": [
        "ccsproc = InnerMap.load(\"CCSPROC\")"
      ],
      "metadata": {
        "id": "MFDKpEVFvH6P"
      },
      "execution_count": null,
      "outputs": []
    },
    {
      "cell_type": "code",
      "source": [
        "ccsproc.lookup(\"2\")"
      ],
      "metadata": {
        "id": "y_a4ZZZCvMsS",
        "colab": {
          "base_uri": "https://localhost:8080/",
          "height": 35
        },
        "outputId": "89cc618e-f03f-4044-c2ad-71fc0b7e2286"
      },
      "execution_count": null,
      "outputs": [
        {
          "output_type": "execute_result",
          "data": {
            "text/plain": [
              "'Insertion; replacement; or removal of extracranial ventricular shunt\"'"
            ],
            "application/vnd.google.colaboratory.intrinsic+json": {
              "type": "string"
            }
          },
          "metadata": {},
          "execution_count": 13
        }
      ]
    },
    {
      "cell_type": "code",
      "source": [
        "ccsproc.lookup(\"5\")"
      ],
      "metadata": {
        "id": "3oJ54dOzvPoX",
        "colab": {
          "base_uri": "https://localhost:8080/",
          "height": 35
        },
        "outputId": "c37789c3-44a2-46e5-b394-4abb521af2b5"
      },
      "execution_count": null,
      "outputs": [
        {
          "output_type": "execute_result",
          "data": {
            "text/plain": [
              "'Insertion of catheter or spinal stimulator and injection into spinal canal\"'"
            ],
            "application/vnd.google.colaboratory.intrinsic+json": {
              "type": "string"
            }
          },
          "metadata": {},
          "execution_count": 14
        }
      ]
    },
    {
      "cell_type": "code",
      "source": [
        "ccsproc.lookup(\"10\")"
      ],
      "metadata": {
        "id": "ZN0EGln8vRRI",
        "colab": {
          "base_uri": "https://localhost:8080/",
          "height": 35
        },
        "outputId": "023b6d76-8e53-4da2-d8b1-f3d44daf3844"
      },
      "execution_count": null,
      "outputs": [
        {
          "output_type": "execute_result",
          "data": {
            "text/plain": [
              "'Thyroidectomy; partial or complete\"'"
            ],
            "application/vnd.google.colaboratory.intrinsic+json": {
              "type": "string"
            }
          },
          "metadata": {},
          "execution_count": 15
        }
      ]
    },
    {
      "cell_type": "markdown",
      "source": [
        "### Example 2: Look up ATC code\n",
        "\n",
        "For the medication code ATC, medcode provides additional information from DrugBank,."
      ],
      "metadata": {
        "id": "NTwzz6_-qU0R"
      }
    },
    {
      "cell_type": "code",
      "source": [
        "atc = InnerMap.load(\"ATC\")\n",
        "\n",
        "# let's search for M01AE51\n",
        "atc.lookup(\"M01AE51\")"
      ],
      "metadata": {
        "id": "ejIczHHeqjyg",
        "colab": {
          "base_uri": "https://localhost:8080/",
          "height": 35
        },
        "outputId": "a901848b-9ef3-4662-c185-cb1b3af97d25"
      },
      "execution_count": null,
      "outputs": [
        {
          "output_type": "execute_result",
          "data": {
            "text/plain": [
              "'ibuprofen, combinations'"
            ],
            "application/vnd.google.colaboratory.intrinsic+json": {
              "type": "string"
            }
          },
          "metadata": {},
          "execution_count": 16
        }
      ]
    },
    {
      "cell_type": "code",
      "source": [
        "#  DrugBank ID\n",
        "print(atc.lookup(\"M01AE51\", \"drugbank_id\"))"
      ],
      "metadata": {
        "id": "QzmQFrdSrUsB",
        "colab": {
          "base_uri": "https://localhost:8080/"
        },
        "outputId": "78daaeae-c3c1-422d-9f55-d0dd93297e72"
      },
      "execution_count": null,
      "outputs": [
        {
          "output_type": "stream",
          "name": "stdout",
          "text": [
            "DB01050\n"
          ]
        }
      ]
    },
    {
      "cell_type": "code",
      "source": [
        "#  Drug description from DrugBank\n",
        "print(atc.lookup(\"M01AE51\", \"description\"))"
      ],
      "metadata": {
        "id": "2456YJMxrD-X",
        "colab": {
          "base_uri": "https://localhost:8080/"
        },
        "outputId": "44b1d594-47dd-4bf2-bee6-b3a5d6372591"
      },
      "execution_count": null,
      "outputs": [
        {
          "output_type": "stream",
          "name": "stdout",
          "text": [
            "Ibuprofen is a non-steroidal anti-inflammatory drug (NSAID) derived from propionic acid and it is considered the first of the propionics.[A39074] The formula of ibuprofen is 2-(4-isobutylphenyl) propionic acid and its initial development was in 1960 while researching for a safer alternative for aspirin.[A39075] Ibuprofen was finally patented in 1961 and this drug was first launched against rheumatoid arthritis in the UK in 1969 and USA in 1974. It was the first available over-the-counter NSAID.[A39076]\n",
            "\n",
            "On the available products, ibuprofen is administered as a racemic mixture. Once administered, the R-enantiomer undergoes extensive interconversion to the S-enantiomer _in vivo_ by the activity of the alpha-methylacyl-CoA racemase. In particular, it is generally proposed that the S-enantiomer is capable of eliciting stronger pharmacological activity than the R-enantiomer.[A39194]\n"
          ]
        }
      ]
    },
    {
      "cell_type": "code",
      "source": [
        "#  Drug indication from DrugBank\n",
        "print(atc.lookup(\"M01AE51\", \"indication\"))"
      ],
      "metadata": {
        "id": "QVuRAKaMrN-5",
        "colab": {
          "base_uri": "https://localhost:8080/"
        },
        "outputId": "88533004-3814-456e-9d2c-598fb5b0bb85"
      },
      "execution_count": null,
      "outputs": [
        {
          "output_type": "stream",
          "name": "stdout",
          "text": [
            "Ibuprofen is the most commonly used and prescribed NSAID. It is very common over the counter medication widely used as an analgesic, anti-inflammatory and antipyretic.[A39096]\n",
            "\n",
            "The use of ibuprofen and its enantiomer [DB09213] in a racemic mix is common for the management of mild to moderate pain related to dysmenorrhea, headache, migraine, postoperative dental pain, spondylitis, osteoarthritis, rheumatoid arthritis, and soft tissue disorder.[A39097]\n",
            "\n",
            "Due to its activity against prostaglandin and thromboxane synthesis, ibuprofen has been attributed to alteration of platelet function and prolongation of gestation and labor.[A39092]\n",
            "\n",
            "As ibuprofen is a widely used medication, the main therapeutic indications are:\n",
            "\n",
            "* Patent Ductus Arteriosus - it is a neonatal condition wherein the ductus arteriosus (blood vessel that connects the main pulmonary artery to the proximal descending aorta) fails to close after birth causing severe risk of heart failure. The prostaglandin inhibition of ibuprofen has been studied for the treatment of this condition as it is known that prostaglandin E2 is responsible for keeping the ductus arteriosus open.[A39100]\n",
            "\n",
            "* Rheumatoid- and osteo-arthritis - ibuprofen is very commonly used in the symptomatic treatment of inflammatory, musculoskeletal and rheumatic disorders.[A39176]\n",
            "\n",
            "* Cystic fibrosis - the use of high dosages of ibuprofen has been proven to decrease inflammation and decreasing polymorphonuclear cell influx in the lungs.[A39177]\n",
            "\n",
            "* Orthostatic hypotension - ibuprofen can induce sodium retention and antagonize the effect of diuretics which has been reported to be beneficial for patients with severe orthostatic hypotension.[A1651]\n",
            "\n",
            "* Dental pain - ibuprofen is used to manage acute and chronic orofacial pain.[A10901]\n",
            "\n",
            "* Minor pain - ibuprofen is widely used to reduce minor aches and pains as well as to reduce fever and manage dysmenorrhea. It is very commonly used for the relief of acute indications such as fever and tension headaches.[A39092]\n",
            "\n",
            "* Investigational uses - efforts have been put into developing ibuprofen for the prophylaxis of Alzheimer's disease, Parkinson disease, and breast cancer.[A39092]\n"
          ]
        }
      ]
    },
    {
      "cell_type": "code",
      "source": [
        "#  Drug SMILES string from DrugBank\n",
        "print(atc.lookup(\"M01AE51\", \"smiles\"))"
      ],
      "metadata": {
        "id": "a2_XGukyrQLm",
        "colab": {
          "base_uri": "https://localhost:8080/"
        },
        "outputId": "ed1aa08f-d68e-4504-b057-aca201b6d44e"
      },
      "execution_count": null,
      "outputs": [
        {
          "output_type": "stream",
          "name": "stdout",
          "text": [
            "CC(C)CC1=CC=C(C=C1)C(C)C(O)=O\n"
          ]
        }
      ]
    },
    {
      "cell_type": "markdown",
      "source": [
        "**TODO**: look up other ATC codes from https://go.drugbank.com/atc\n",
        "\n",
        "E.g., B01AC06 for Aspirin."
      ],
      "metadata": {
        "id": "9icZIs36rbYm"
      }
    },
    {
      "cell_type": "code",
      "source": [
        "print(atc.lookup(\"B01AC06\", \"indication\"))"
      ],
      "metadata": {
        "id": "-YT-oYRgvcZm",
        "colab": {
          "base_uri": "https://localhost:8080/"
        },
        "outputId": "aeb8f2f2-f6fe-4c36-d908-6624d79bfc9b"
      },
      "execution_count": null,
      "outputs": [
        {
          "output_type": "stream",
          "name": "stdout",
          "text": [
            "**Pain, fever, and inflammation**\n",
            "\n",
            "Acetylsalicylic acid (ASA), in the regular tablet form (immediate-release), is indicated to relieve pain, fever, and inflammation associated with many conditions, including the flu, the common cold, neck and back pain, dysmenorrhea, headache, tooth pain, sprains, fractures, myositis, neuralgia, synovitis, arthritis, bursitis, burns, and various injuries. It is also used for symptomatic pain relief after surgical and dental procedures [FDA label]. \n",
            "\n",
            "The _extra strength_ formulation of acetylsalicylic acid is also indicated for the management migraine pain with photophobia (sensitivity to light) and phonophobia (sensitivity to sound)[FDA label].\n",
            "\n",
            "**Other indications**\n",
            "\n",
            "ASA is also indicated for various other purposes, due to its ability to inhibit platelet aggregation. These include: \n",
            "\n",
            "Reducing the risk of cardiovascular death in suspected cases of myocardial infarction (MI) [FDA label]. \n",
            "\n",
            "Reducing the risk of a first non-fatal myocardial infarction in patients, and for reducing the risk of morbidity and mortality in cases of unstable angina and in those who have had a prior myocardial infarction [FDA label].\n",
            "\n",
            "For reducing the risk of transient ischemic attacks (TIA) and to prevent atherothrombotic cerebral infarction (in conjunction with other treatments) [FDA label].\n",
            "\n",
            "For the prevention of thromboembolism after hip replacement surgery [FDA label]. \n",
            "\n",
            "For decreasing platelet to platelet adhesion following carotid endarterectomy, aiding in the prevention of transient ischemic attacks (TIA) [FDA label].\n",
            "\n",
            "Used for patients undergoing hemodialysis with a silicone rubber arteriovenous cannula inserted to prevent thrombosis at the insertion site [FDA Label]. \n",
            "\n",
            "**Important note regarding use of the extended-release formulation [F4405]**\n",
            "\n",
            "In the setting of acute myocardial infarction, or before percutaneous interventions, the extended-release form of acetylsalicylic acid should not be used. Use immediate-release formulations in scenarios requiring rapid onset of action [Label, F4405]. The extended-release form is taken to decrease the incidence of mortality and myocardial infarction (MI) for individuals diagnosed with chronic coronary artery disease (CAD), including patients with previous myocardial infarction (MI) or unstable angina or with chronic stable angina. Additionally, the extended-release form is used to decrease the risk of death and recurrent episodes of stroke in patients with a history of stroke or TIA [F4405].\n",
            "\n",
            "\n",
            " \n"
          ]
        }
      ]
    },
    {
      "cell_type": "code",
      "source": [
        "# print(atc.lookup(\"A12CE02\", \"drugbank_id\"))\n",
        "atc.convert(\"A12CE02\", level=3)"
      ],
      "metadata": {
        "id": "elgRQlnmyiq9",
        "colab": {
          "base_uri": "https://localhost:8080/",
          "height": 35
        },
        "outputId": "dc9fbf46-9a92-4fe8-f7cc-9073b218c786"
      },
      "execution_count": null,
      "outputs": [
        {
          "output_type": "execute_result",
          "data": {
            "text/plain": [
              "'A12C'"
            ],
            "application/vnd.google.colaboratory.intrinsic+json": {
              "type": "string"
            }
          },
          "metadata": {},
          "execution_count": 22
        }
      ]
    },
    {
      "cell_type": "markdown",
      "source": [
        "### 2. Code Mapping\n",
        "\n",
        "`class pyhealth.medcode.CodeMap`\n",
        "- **[Args]**:\n",
        "    - source: source code vocabulary to map from\n",
        "    - target: target code vocabulary to map to\n",
        "\n",
        "- **[Functionality]**:\n",
        "- map(source_code): maps source_code to the target vocabulary\n",
        "\n",
        "Currently, we support the following mapping:\n",
        "\n",
        "- With in diagnosis codes:\n",
        "    - ICD9CM <-> CCSCM\n",
        "    - ICD10CM <-> CCSCM\n",
        "- With in procedure codes:\n",
        "    - ICD9PROC <-> CCSPROC\n",
        "    - ICD10PROC <-> CCSPROC\n",
        "- With in medication codes:\n",
        "    - NDC <-> RxNorm\n",
        "    - NDC <-> ATC\n",
        "    - RxNorm <-> ATC\n",
        "- Between diagnosis and medication codes:\n",
        "    - ATC <-> ICD9CM"
      ],
      "metadata": {
        "id": "kAMEBO-Mr2sB"
      }
    },
    {
      "cell_type": "markdown",
      "source": [
        "### Example 3: Map ICD9CM code to CCSCM code\n",
        "\n",
        "Let's try to map the ICD9 CM code 428.0, which stands for \"Congestive heart failure, unspecified\", to CCS CM code."
      ],
      "metadata": {
        "id": "uIhMHC67sthU"
      }
    },
    {
      "cell_type": "code",
      "source": [
        "from pyhealth.medcode import CrossMap\n",
        "\n",
        "mapping = CrossMap.load(source_vocabulary=\"ICD9CM\", target_vocabulary=\"CCSCM\")\n",
        "mapping.map(\"428.0\")"
      ],
      "metadata": {
        "id": "hgGo1hUYs457",
        "colab": {
          "base_uri": "https://localhost:8080/"
        },
        "outputId": "d9ca6cb5-3667-446c-9739-2d3876194efe"
      },
      "execution_count": null,
      "outputs": [
        {
          "output_type": "execute_result",
          "data": {
            "text/plain": [
              "['108']"
            ]
          },
          "metadata": {},
          "execution_count": 23
        }
      ]
    },
    {
      "cell_type": "markdown",
      "source": [
        "Note that the returned variable is a list of codes, due to the possible one-to-many mapping."
      ],
      "metadata": {
        "id": "1EFw192-vYNu"
      }
    },
    {
      "cell_type": "code",
      "source": [
        "# let's check if the mapping is correct\n",
        "ccscm = InnerMap.load(\"CCSCM\")\n",
        "print(ccscm.lookup(\"108\"))"
      ],
      "metadata": {
        "id": "Mg__ZGSks5DX",
        "colab": {
          "base_uri": "https://localhost:8080/"
        },
        "outputId": "50c5e107-ce9b-451e-cb11-2f131a1db165"
      },
      "execution_count": null,
      "outputs": [
        {
          "output_type": "stream",
          "name": "stdout",
          "text": [
            "Congestive heart failure; nonhypertensive\n"
          ]
        }
      ]
    },
    {
      "cell_type": "markdown",
      "source": [
        "chf;nonhp: Congestive heart failure, nonhypertensive"
      ],
      "metadata": {
        "id": "oAWfsmTNv46n"
      }
    },
    {
      "cell_type": "markdown",
      "source": [],
      "metadata": {
        "id": "u2zo-JtqwjED"
      }
    },
    {
      "cell_type": "markdown",
      "source": [
        "### Example 4: Map NDC code to ATC code\n",
        "\n",
        "Let's try to map the NDC code 5058060001, which is acetaminophen 325 MG Oral Tablet [Tylenol].\n",
        "\n",
        "See https://fda.report/NDC/50580-496."
      ],
      "metadata": {
        "id": "2jmqQX1Dstp7"
      }
    },
    {
      "cell_type": "code",
      "source": [
        "from pyhealth.medcode import CrossMap\n",
        "\n",
        "# (it may take up to 5 minutes)\n",
        "mapping = CrossMap.load(\"NDC\", \"RxNorm\")\n",
        "mapping.map(\"50580049698\")"
      ],
      "metadata": {
        "id": "Q5JsV6PAr5Sj",
        "colab": {
          "base_uri": "https://localhost:8080/"
        },
        "outputId": "129eee2a-b6f1-44fa-c489-144a413fb192"
      },
      "execution_count": null,
      "outputs": [
        {
          "output_type": "execute_result",
          "data": {
            "text/plain": [
              "['209387']"
            ]
          },
          "metadata": {},
          "execution_count": 25
        }
      ]
    },
    {
      "cell_type": "code",
      "source": [
        "# (it may take up to 5 minutes)\n",
        "mapping = CrossMap.load(\"RxNorm\", \"NDC\")\n",
        "mapping.map(\"209387\")"
      ],
      "metadata": {
        "id": "wGmwMNfCcoW3",
        "colab": {
          "base_uri": "https://localhost:8080/"
        },
        "outputId": "22367407-5757-44bd-98a8-5b22ce80567b"
      },
      "execution_count": null,
      "outputs": [
        {
          "output_type": "execute_result",
          "data": {
            "text/plain": [
              "['00045045270',\n",
              " '00045049642',\n",
              " '00045049650',\n",
              " '00045049660',\n",
              " '00045049777',\n",
              " '00045049780',\n",
              " '505800458',\n",
              " '50580045810',\n",
              " '50580045811',\n",
              " '50580045850',\n",
              " '505800495',\n",
              " '50580049501',\n",
              " '505800496',\n",
              " '50580049650',\n",
              " '50580049660',\n",
              " '50580049698',\n",
              " '505800501',\n",
              " '50580050110',\n",
              " '50580050180',\n",
              " '505800600',\n",
              " '50580060001',\n",
              " '50580060002',\n",
              " '50580060003',\n",
              " '551541918',\n",
              " '55154191800',\n",
              " '551541928',\n",
              " '55154192800',\n",
              " '705182798',\n",
              " '70518279800']"
            ]
          },
          "metadata": {},
          "execution_count": 26
        }
      ]
    },
    {
      "cell_type": "code",
      "source": [
        "# let's check if the mapping is correct\n",
        "ccscm = InnerMap.load(\"RxNorm\")\n",
        "ccscm.lookup(\"209387\")"
      ],
      "metadata": {
        "id": "gKrZ1o5owVJ4",
        "colab": {
          "base_uri": "https://localhost:8080/",
          "height": 35
        },
        "outputId": "3ffdb443-1868-4404-df65-d03e4460f9e1"
      },
      "execution_count": null,
      "outputs": [
        {
          "output_type": "execute_result",
          "data": {
            "text/plain": [
              "'acetaminophen 325 MG Oral Tablet [Tylenol]'"
            ],
            "application/vnd.google.colaboratory.intrinsic+json": {
              "type": "string"
            }
          },
          "metadata": {},
          "execution_count": 27
        }
      ]
    },
    {
      "cell_type": "markdown",
      "source": [
        "**TODO:** Map NDC code 50090539100 to ATC.\n",
        "\n",
        "See https://ndclist.com/ndc/50090-5391/package/50090-5391-0."
      ],
      "metadata": {
        "id": "yTsq7iDHyQD1"
      }
    },
    {
      "cell_type": "code",
      "source": [
        "mapping = CrossMap.load(\"NDC\", \"ATC\")\n",
        "mapping.map(\"50090539100\")"
      ],
      "metadata": {
        "id": "l3pFuvxRwV0Y",
        "colab": {
          "base_uri": "https://localhost:8080/"
        },
        "outputId": "454c901a-15ea-4d75-d182-decc85e8ad31"
      },
      "execution_count": null,
      "outputs": [
        {
          "output_type": "execute_result",
          "data": {
            "text/plain": [
              "['A10AC04', 'A10AD04', 'A10AB04']"
            ]
          },
          "metadata": {},
          "execution_count": 28
        }
      ]
    },
    {
      "cell_type": "code",
      "source": [],
      "metadata": {
        "id": "eujTF7elwbjD"
      },
      "execution_count": null,
      "outputs": []
    },
    {
      "cell_type": "markdown",
      "source": [
        "If you find it useful, please give us a star ⭐ (fork, and watch) at https://github.com/sunlabuiuc/PyHealth.\n",
        "\n",
        "Thanks very much for your support!"
      ],
      "metadata": {
        "id": "en29EQlobki8"
      }
    },
    {
      "cell_type": "code",
      "source": [],
      "metadata": {
        "id": "VVjX3Yalvdth"
      },
      "execution_count": null,
      "outputs": []
    }
  ],
  "metadata": {
    "colab": {
      "provenance": [],
      "include_colab_link": true
    },
    "kernelspec": {
      "display_name": "Python 3",
      "name": "python3"
    },
    "gpuClass": "standard"
  },
  "nbformat": 4,
  "nbformat_minor": 0
}